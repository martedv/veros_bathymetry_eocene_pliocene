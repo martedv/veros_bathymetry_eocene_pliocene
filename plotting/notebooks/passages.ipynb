{
 "cells": [
  {
   "cell_type": "markdown",
   "metadata": {},
   "source": [
    "Show image of the bathymetry and each of the passages\n"
   ]
  },
  {
   "cell_type": "code",
   "execution_count": 3,
   "metadata": {},
   "outputs": [
    {
     "output_type": "stream",
     "name": "stdout",
     "text": "../../actual_runs/runs_4_degree_with_customdeep/\n"
    }
   ],
   "source": [
    "import h5netcdf\n",
    "import re\n",
    "import numpy as np\n",
    "import matplotlib.pyplot as plt\n",
    "import matplotlib.ticker as ticker\n",
    "import csv\n",
    "import os\n",
    "import matplotlib.ticker as mticker\n",
    "from cartopy.mpl.gridliner import LONGITUDE_FORMATTER, LATITUDE_FORMATTER\n",
    "from mpl_toolkits.axes_grid1 import make_axes_locatable\n",
    "import re\n",
    "import cartopy.crs as ccrs\n",
    "import cartopy.util as cutil\n",
    "import xarray as xr\n",
    "from matplotlib import animation\n",
    "from matplotlib import cm\n",
    "import string\n",
    "import matplotlib.colors as mcolors\n",
    "import matplotlib.backends.backend_pdf\n",
    "from matplotlib import rc\n",
    "\n",
    "rc('font',**{'family':'serif','serif':['Computer Modern Roman'],'size'   : 9})\n",
    "rc('text', usetex=True)\n",
    "\n",
    "rundir = '../../actual_runs/runs_4_degree_with_customdeep/'\n",
    "print(rundir)"
   ]
  },
  {
   "cell_type": "markdown",
   "metadata": {},
   "source": [
    "Show 25Ma image\n"
   ]
  },
  {
   "cell_type": "code",
   "execution_count": 4,
   "metadata": {},
   "outputs": [],
   "source": [
    "with h5netcdf.File('Data/manual_baths_4deg_final.nc','r') as f:\n",
    "    bathymetrys = f['bathymetry'][:]\n",
    "    masks = f['mask'][:]\n",
    "    xt = f['xt'][:]\n",
    "    yt = f['yt'][:]"
   ]
  },
  {
   "cell_type": "markdown",
   "metadata": {},
   "source": [
    "Next we get the run data"
   ]
  },
  {
   "cell_type": "code",
   "execution_count": null,
   "metadata": {},
   "outputs": [],
   "source": [
    "time = np.arange(0,70,5)\n",
    "\n",
    "yearsdone = []\n",
    "ranfory = []\n",
    "BSF = []\n",
    "\n",
    "for year in time:\n",
    "    if os.path.exists(rundir + 'Run%i/run_%ima.current_run' % (year,year)):\n",
    "        with open(rundir + 'Run%i/run_%ima.current_run' % (year,year)) as f:\n",
    "            ranfor = int(f.readline())\n",
    "        ranfory.append(ranfor)\n",
    "        yearsdone.append(year)\n",
    "        with xr.open_dataset(rundir + 'Run%i/run_%ima.%04d.averages.nc'% (year,year,ranfor-1)) as ds:\n",
    "            BSF.append(ds['psi'].values)\n",
    "        "
   ]
  },
  {
   "cell_type": "code",
   "execution_count": null,
   "metadata": {},
   "outputs": [],
   "source": [
    "print(;'')"
   ]
  },
  {
   "cell_type": "code",
   "execution_count": null,
   "metadata": {},
   "outputs": [],
   "source": []
  },
  {
   "cell_type": "code",
   "execution_count": null,
   "metadata": {},
   "outputs": [],
   "source": []
  }
 ],
 "metadata": {
  "language_info": {
   "codemirror_mode": {
    "name": "ipython",
    "version": 3
   },
   "file_extension": ".py",
   "mimetype": "text/x-python",
   "name": "python",
   "nbconvert_exporter": "python",
   "pygments_lexer": "ipython3",
   "version": "3.8.2-final"
  },
  "orig_nbformat": 2,
  "kernelspec": {
   "name": "python38264bitdda417f217da4306905b52c7bbcf6f35",
   "display_name": "Python 3.8.2 64-bit"
  }
 },
 "nbformat": 4,
 "nbformat_minor": 2
}